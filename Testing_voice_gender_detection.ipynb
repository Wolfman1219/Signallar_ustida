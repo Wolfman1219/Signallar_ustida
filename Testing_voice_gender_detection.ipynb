{
  "nbformat": 4,
  "nbformat_minor": 0,
  "metadata": {
    "colab": {
      "name": "Testing_voice_gender_detection.ipynb",
      "private_outputs": true,
      "provenance": [],
      "mount_file_id": "1JVkMk9UwFLnMC8JmktOEpi23pvg9-UQZ",
      "authorship_tag": "ABX9TyOLDW3iOh4dGN5THjnsyNxI",
      "include_colab_link": true
    },
    "kernelspec": {
      "name": "python3",
      "display_name": "Python 3"
    },
    "language_info": {
      "name": "python"
    }
  },
  "cells": [
    {
      "cell_type": "markdown",
      "metadata": {
        "id": "view-in-github",
        "colab_type": "text"
      },
      "source": [
        "<a href=\"https://colab.research.google.com/github/Wolfman1219/Signallar_ustida/blob/main/Testing_voice_gender_detection.ipynb\" target=\"_parent\"><img src=\"https://colab.research.google.com/assets/colab-badge.svg\" alt=\"Open In Colab\"/></a>"
      ]
    },
    {
      "cell_type": "code",
      "execution_count": null,
      "metadata": {
        "id": "8Bf2ddGxNeNC"
      },
      "outputs": [],
      "source": [
        "import librosa\n",
        "from numpy import fft\n",
        "import numpy as np\n",
        "from tensorflow import keras as ks\n",
        "import entropy\n",
        "import scipy"
      ]
    },
    {
      "cell_type": "code",
      "source": [
        "y, sr = librosa.load('/content/drive/MyDrive/voices/man/about_time.wav')"
      ],
      "metadata": {
        "id": "bEJxdF69N4GT"
      },
      "execution_count": null,
      "outputs": []
    },
    {
      "cell_type": "code",
      "source": [
        "freqs = fft.fftfreq(y.size)\n",
        "# sr = np.dtype(\"float32\", sr)\n",
        "\n",
        "def describe_freq(y, freqs):\n",
        "    mean = np.mean(freqs)\n",
        "    std = np.std(freqs) \n",
        "    # maxv = np.amax(freqs) \n",
        "    # minv = np.amin(freqs) \n",
        "    median = np.median(freqs)\n",
        "    skew = scipy.stats.skew(freqs)\n",
        "    kurt = scipy.stats.kurtosis(freqs)\n",
        "    q1 = np.quantile(freqs, 0.25)\n",
        "    q3 = np.quantile(freqs, 0.75)\n",
        "    mode = scipy.stats.mode(freqs)[0][0]\n",
        "    iqr = scipy.stats.iqr(freqs)\n",
        "    spt =  0.1 #entropy.spectral_entropy(y, freqs, method = 'welch', normalized = True)\n",
        "    sfm = 0.1 #librosa.feature.spectral_flatness(y, sr)\n",
        "    \n",
        "    return [mean, std, median, q1, q3, iqr, spt, sfm, mode]"
      ],
      "metadata": {
        "id": "uCDz2bm0OlQs"
      },
      "execution_count": null,
      "outputs": []
    },
    {
      "cell_type": "code",
      "source": [
        "data = describe_freq(y, freqs)"
      ],
      "metadata": {
        "id": "CEuTKf_HOw9X"
      },
      "execution_count": null,
      "outputs": []
    },
    {
      "cell_type": "code",
      "source": [
        "data = np.array(data)\n",
        "type(data)"
      ],
      "metadata": {
        "id": "gbsjBaJCRgkV"
      },
      "execution_count": null,
      "outputs": []
    },
    {
      "cell_type": "code",
      "source": [
        "model = ks.models.load_model('/content/drive/MyDrive/dataset_uchun/voice_gender_detection.h5')"
      ],
      "metadata": {
        "id": "vyMFkdvxXBgx"
      },
      "execution_count": null,
      "outputs": []
    },
    {
      "cell_type": "code",
      "source": [
        "print(np.round(model.predict(np.expand_dims(data, axis = 0))))"
      ],
      "metadata": {
        "id": "cRRLvbXIXJNQ"
      },
      "execution_count": null,
      "outputs": []
    }
  ]
}
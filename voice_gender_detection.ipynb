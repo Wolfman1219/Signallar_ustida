{
  "nbformat": 4,
  "nbformat_minor": 0,
  "metadata": {
    "colab": {
      "name": "voice_gender_detection.ipynb",
      "private_outputs": true,
      "provenance": [],
      "collapsed_sections": [],
      "mount_file_id": "18onjUq0ZCFfzxTbQRXt0j0l2h2jpfeV5",
      "authorship_tag": "ABX9TyMCqqYI4UrBZVsEfIEMxu16",
      "include_colab_link": true
    },
    "kernelspec": {
      "name": "python3",
      "display_name": "Python 3"
    },
    "language_info": {
      "name": "python"
    }
  },
  "cells": [
    {
      "cell_type": "markdown",
      "metadata": {
        "id": "view-in-github",
        "colab_type": "text"
      },
      "source": [
        "<a href=\"https://colab.research.google.com/github/Wolfman1219/Signallar_ustida/blob/main/voice_gender_detection.ipynb\" target=\"_parent\"><img src=\"https://colab.research.google.com/assets/colab-badge.svg\" alt=\"Open In Colab\"/></a>"
      ]
    },
    {
      "cell_type": "code",
      "execution_count": null,
      "metadata": {
        "id": "58rae_-41pc9"
      },
      "outputs": [],
      "source": [
        "from tensorflow import keras as ks\n",
        "import numpy as np\n",
        "import matplotlib.pyplot as plt\n",
        "import cv2\n",
        "import pandas as pd\n",
        "from sklearn.model_selection import train_test_split as tts"
      ]
    },
    {
      "cell_type": "code",
      "source": [
        "data = pd.read_csv('/content/drive/MyDrive/dataset_uchun/voice.csv')"
      ],
      "metadata": {
        "id": "-RiVCTCl5dnf"
      },
      "execution_count": null,
      "outputs": []
    },
    {
      "cell_type": "code",
      "source": [
        "a = data.iloc[:,:-1].to_numpy(dtype=np.float32)\n",
        "a.shape"
      ],
      "metadata": {
        "id": "AY4Q7N74UQsO"
      },
      "execution_count": null,
      "outputs": []
    },
    {
      "cell_type": "code",
      "source": [
        "c = a[:, 8:10]\n",
        "b = a[:, :6]\n",
        "d = np.hstack((b,c))\n",
        "y = data.iloc[:,-1]"
      ],
      "metadata": {
        "id": "O7_yaiw6lQUa"
      },
      "execution_count": null,
      "outputs": []
    },
    {
      "cell_type": "code",
      "source": [
        "y.shape\n",
        "y[y=='male']=0.0\n",
        "y[y=='female']=1.0"
      ],
      "metadata": {
        "id": "fj7FzWSF16LM"
      },
      "execution_count": null,
      "outputs": []
    },
    {
      "cell_type": "code",
      "source": [
        "print(d.shape)\n",
        "y=y.to_numpy(dtype=np.float32)"
      ],
      "metadata": {
        "id": "CJNTr6zFlvS3"
      },
      "execution_count": null,
      "outputs": []
    },
    {
      "cell_type": "code",
      "source": [
        "y.dtype"
      ],
      "metadata": {
        "id": "wGGm4L8RB5_W"
      },
      "execution_count": null,
      "outputs": []
    },
    {
      "cell_type": "code",
      "source": [
        "print(d)"
      ],
      "metadata": {
        "id": "ApA3i6ULBVIq"
      },
      "execution_count": null,
      "outputs": []
    },
    {
      "cell_type": "code",
      "source": [
        "x_train, x_test, y_train, y_test = tts(d, y, test_size = 0.2, random_state = 42)\n",
        "x_train.shape"
      ],
      "metadata": {
        "id": "3OU9YupSmGx1"
      },
      "execution_count": null,
      "outputs": []
    },
    {
      "cell_type": "code",
      "source": [
        "x_test"
      ],
      "metadata": {
        "id": "DIMV7MDazIfO"
      },
      "execution_count": null,
      "outputs": []
    },
    {
      "cell_type": "code",
      "source": [
        "model = ks.Sequential([\n",
        "                       ks.layers.Dense(6, input_shape = (8,),activation='relu'),\n",
        "                       ks.layers.Dropout(0.2),\n",
        "\n",
        "                       ks.layers.Dense(4, activation = 'relu'),\n",
        "                       ks.layers.Dropout(0.2),\n",
        "\n",
        "                       ks.layers.Dense(2, activation = 'relu'),\n",
        "                       ks.layers.Dropout(0.2),\n",
        "\n",
        "                       ks.layers.Dense(1, activation = 'sigmoid')\n",
        "                       \n",
        "])"
      ],
      "metadata": {
        "id": "k9Vm2ebS3GT5"
      },
      "execution_count": null,
      "outputs": []
    },
    {
      "cell_type": "code",
      "source": [
        "model.compile(loss = 'binary_crossentropy', metrics = ['accuracy'], optimizer='adam')"
      ],
      "metadata": {
        "id": "l32UqNlm_2qH"
      },
      "execution_count": null,
      "outputs": []
    },
    {
      "cell_type": "code",
      "source": [
        "model.fit(x_train, y_train, epochs = 100)"
      ],
      "metadata": {
        "id": "o00zz-XKhncB"
      },
      "execution_count": null,
      "outputs": []
    },
    {
      "cell_type": "code",
      "source": [
        "model.evaluate(x_test,y_test)"
      ],
      "metadata": {
        "id": "uqN6O1IXh2OG"
      },
      "execution_count": null,
      "outputs": []
    },
    {
      "cell_type": "code",
      "source": [
        "n = 400\n",
        "print(y_test[n])\n",
        "print(np.round(model.predict(np.expand_dims(x_test[n], axis = 0))))"
      ],
      "metadata": {
        "id": "_gB-ypJ8FuNa"
      },
      "execution_count": null,
      "outputs": []
    }
  ]
}